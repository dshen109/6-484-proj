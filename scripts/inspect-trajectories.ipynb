{
 "cells": [
  {
   "cell_type": "code",
   "execution_count": 53,
   "id": "ccffe1c9",
   "metadata": {},
   "outputs": [],
   "source": [
    "import datetime as dt\n",
    "\n",
    "from deep_hvac.behavioral_clone import TrajDataset, DataLoader\n",
    "from deep_hvac.simulator import SimEnv\n",
    "\n",
    "import matplotlib.pyplot as plt\n",
    "import pandas as pd\n",
    "import torch"
   ]
  },
  {
   "cell_type": "code",
   "execution_count": 15,
   "id": "5237a268",
   "metadata": {},
   "outputs": [],
   "source": [
    "trajs = torch.load('fixtures/expert-traj-summer.pt')"
   ]
  },
  {
   "cell_type": "code",
   "execution_count": 34,
   "id": "e6a41d06",
   "metadata": {},
   "outputs": [],
   "source": [
    "dataset = TrajDataset(trajs)\n",
    "dataloader = DataLoader(dataset,\n",
    "                        batch_size=10000,\n",
    "                        shuffle=True)"
   ]
  },
  {
   "cell_type": "code",
   "execution_count": 35,
   "id": "69c8a20d",
   "metadata": {},
   "outputs": [],
   "source": [
    "for data in dataloader:\n",
    "    pass"
   ]
  },
  {
   "cell_type": "code",
   "execution_count": 52,
   "id": "73feeaa8",
   "metadata": {},
   "outputs": [
    {
     "data": {
      "text/plain": [
       "7200"
      ]
     },
     "execution_count": 52,
     "metadata": {},
     "output_type": "execute_result"
    }
   ],
   "source": [
    "len(dataloader.dataset)"
   ]
  },
  {
   "cell_type": "code",
   "execution_count": 38,
   "id": "510f10aa",
   "metadata": {},
   "outputs": [
    {
     "data": {
      "text/plain": [
       "torch.Size([7200, 1, 22])"
      ]
     },
     "execution_count": 38,
     "metadata": {},
     "output_type": "execute_result"
    }
   ],
   "source": [
    "data['state'].shape"
   ]
  },
  {
   "cell_type": "code",
   "execution_count": 61,
   "id": "dfaed5c4",
   "metadata": {},
   "outputs": [
    {
     "data": {
      "text/plain": [
       "<AxesSubplot:xlabel='timestamps'>"
      ]
     },
     "execution_count": 61,
     "metadata": {},
     "output_type": "execute_result"
    },
    {
     "data": {
      "image/png": "[encoded data removed]",
      "text/plain": [
       "<Figure size 432x288 with 1 Axes>"
      ]
     },
     "metadata": {
      "needs_background": "light"
     },
     "output_type": "display_data"
    }
   ],
   "source": [
    "def states_to_dataframe(state_obs):\n",
    "    state_obs = state_obs.squeeze(1)\n",
    "    hours = state_obs[:, SimEnv.state_idx['hour']]\n",
    "    months = state_obs[:, SimEnv.state_idx['month']]\n",
    "    days = state_obs[:, SimEnv.state_idx['day']]\n",
    "    occupancy = state_obs[SimEnv.state_idx['occupancy_ahead_0'], :]\n",
    "    timestamps = [\n",
    "        dt.datetime(2018, int(month), int(day), int(hour))\n",
    "        for month, day, hour in zip(months, days, hours)\n",
    "    ]\n",
    "    return pd.DataFrame({\n",
    "        'timestamps': timestamps,\n",
    "        'heating_setpoint': state_obs[:, \n",
    "                                      SimEnv.state_idx['heating_setpoint']],\n",
    "        'cooling_setpoint': state_obs[:, \n",
    "                                      SimEnv.state_idx['cooling_setpoint']]\n",
    "    })\n",
    "    \n",
    "frame = states_to_dataframe(data['state'])\n",
    "frame.groupby('timestamps').mean().iloc[0:200].plot()"
   ]
  },
  {
   "cell_type": "code",
   "execution_count": 65,
   "id": "524da71e",
   "metadata": {},
   "outputs": [
    {
     "data": {
      "text/plain": [
       "{'jan': 1,\n",
       " 'feb': 2,\n",
       " 'mar': 3,\n",
       " 'apr': 4,\n",
       " 'may': 5,\n",
       " 'jun': 6,\n",
       " 'jul': 7,\n",
       " 'aug': 8,\n",
       " 'sep': 9,\n",
       " 'oct': 10,\n",
       " 'nov': 11,\n",
       " 'dec': 12}"
      ]
     },
     "execution_count": 65,
     "metadata": {},
     "output_type": "execute_result"
    }
   ],
   "source": [
    "import calendar\n",
    "\n",
    "{month.lower(): index for index, month in enumerate(calendar.month_abbr) if month}"
   ]
  },
  {
   "cell_type": "code",
   "execution_count": null,
   "id": "0f7d3124",
   "metadata": {},
   "outputs": [],
   "source": []
  }
 ],
 "metadata": {
  "kernelspec": {
   "display_name": "Python 3 (ipykernel)",
   "language": "python",
   "name": "python3"
  },
  "language_info": {
   "codemirror_mode": {
    "name": "ipython",
    "version": 3
   },
   "file_extension": ".py",
   "mimetype": "text/x-python",
   "name": "python",
   "nbconvert_exporter": "python",
   "pygments_lexer": "ipython3",
   "version": "3.8.10"
  }
 },
 "nbformat": 4,
 "nbformat_minor": 5
}
